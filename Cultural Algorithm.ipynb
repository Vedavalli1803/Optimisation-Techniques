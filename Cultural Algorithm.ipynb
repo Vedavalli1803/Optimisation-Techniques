{
 "cells": [
  {
   "cell_type": "code",
   "execution_count": null,
   "id": "7e2b142b",
   "metadata": {},
   "outputs": [],
   "source": [
    "import numpy as np\n",
    "from keras.layers import Dense\n",
    "from keras.models import Sequential\n",
    "from sklearn.datasets import load_iris\n",
    "from sklearn.model_selection import train_test_split\n",
    "from sklearn.preprocessing import OneHotEncoder, StandardScaler\n",
    "import warnings\n",
    "warnings.filterwarnings(\"ignore\")\n",
    "import pandas as pd"
   ]
  },
  {
   "cell_type": "code",
   "execution_count": null,
   "id": "63622a0c",
   "metadata": {},
   "outputs": [],
   "source": [
    "data = pd.read_csv('/Users/veda/Downloads/Bank_Personal_Loan_Modelling.csv')"
   ]
  },
  {
   "cell_type": "code",
   "execution_count": null,
   "id": "a14f42f9",
   "metadata": {},
   "outputs": [],
   "source": [
    "data.head()"
   ]
  },
  {
   "cell_type": "code",
   "execution_count": null,
   "id": "4f90431b",
   "metadata": {},
   "outputs": [],
   "source": [
    "data.drop([\"ID\", \"ZIP Code\"],axis=1,inplace=True)"
   ]
  },
  {
   "cell_type": "code",
   "execution_count": null,
   "id": "36498f43",
   "metadata": {},
   "outputs": [],
   "source": [
    "x = data['Personal Loan']\n",
    "data = data.drop(['Personal Loan'],axis=1)\n",
    "data = data.join(x)"
   ]
  },
  {
   "cell_type": "code",
   "execution_count": null,
   "id": "aa94e06e",
   "metadata": {},
   "outputs": [],
   "source": [
    "data.shape"
   ]
  },
  {
   "cell_type": "code",
   "execution_count": null,
   "id": "df93a6fe",
   "metadata": {},
   "outputs": [],
   "source": [
    "data.isnull().sum()"
   ]
  },
  {
   "cell_type": "code",
   "execution_count": null,
   "id": "9c22f14c",
   "metadata": {},
   "outputs": [],
   "source": [
    "x = data.iloc[:,:-1].values\n",
    "y = data.iloc[:,-1].values\n",
    "enc = OneHotEncoder()\n",
    "y = enc.fit_transform(y[:, np.newaxis]).toarray()"
   ]
  },
  {
   "cell_type": "code",
   "execution_count": null,
   "id": "c4561044",
   "metadata": {},
   "outputs": [],
   "source": [
    "from sklearn.model_selection import train_test_split\n",
    "x_train,x_test,y_train,y_test = train_test_split(x,y,test_size=0.20,random_state=69)\n",
    "(x_train.shape,x_test.shape,y_train.shape,y_test.shape)"
   ]
  },
  {
   "cell_type": "code",
   "execution_count": null,
   "id": "ef41a43c",
   "metadata": {},
   "outputs": [],
   "source": [
    "from sklearn.preprocessing import StandardScaler\n",
    "\n",
    "sc = StandardScaler()\n",
    "x_train = sc.fit_transform(x_train)\n",
    "x_test = sc.transform(x_test)"
   ]
  },
  {
   "cell_type": "code",
   "execution_count": null,
   "id": "2fe3efee",
   "metadata": {},
   "outputs": [],
   "source": [
    "def create_custom_model(nodes, n=1, name='model'):\n",
    "    model = Sequential(name=name)\n",
    "    for i in range(n):\n",
    "        model.add(Dense(nodes, input_dim=13, activation='relu'))\n",
    "    model.add(Dense(2, activation='softmax'))\n",
    "    model.compile(loss='categorical_crossentropy',\n",
    "                  optimizer='adam',\n",
    "                  metrics=['accuracy'])\n",
    "    return model"
   ]
  },
  {
   "cell_type": "code",
   "execution_count": null,
   "id": "ad860f42",
   "metadata": {},
   "outputs": [],
   "source": [
    "n_layers = 1\n",
    "model = create_custom_model(4, n_layers)\n",
    "model.summary()\n",
    "\n",
    "score = model.evaluate(X_test, Y_test)\n",
    "print('Test loss:', score[0])\n",
    "print('Test accuracy:', score[1])"
   ]
  },
  {
   "cell_type": "code",
   "execution_count": null,
   "id": "b5bc62f5",
   "metadata": {},
   "outputs": [],
   "source": [
    "def fitness_function(weights):\n",
    "    y_pred = model(X_train)\n",
    "    y_pred = torch.where(y_pred>=0.5, 1, 0).flatten()\n",
    "    accuracy = (y_pred == Y_train).sum().float().item() / len(test.dataset)\n",
    "    return accuracy"
   ]
  },
  {
   "cell_type": "code",
   "execution_count": null,
   "id": "f924d15c",
   "metadata": {},
   "outputs": [],
   "source": [
    "def cultural_algorithm(num_weights, pop_size, num_iter):\n",
    "    population = []\n",
    "    for i in range(pop_size):\n",
    "        weights = model.get_weights()\n",
    "        for j in range(len(weights)):\n",
    "            weights[j] += np.random.normal(0, 0.1, size=weights[j].shape)\n",
    "        fitness = fitness_function(weights)\n",
    "        population.append({'weights': weights, 'fitness': fitness})\n",
    "\n",
    "    population = sorted(population, key=lambda x: x['fitness'], reverse=True)\n",
    "\n",
    "    cultural_pool = population[:int(pop_size/2)]\n",
    "\n",
    "    for i in range(num_iter):\n",
    "        new_individual = {}\n",
    "        weights = model.get_weights()\n",
    "        for j in range(len(weights)):\n",
    "            if random.random() < 0.5:\n",
    "                new_individual['weights'][j] = cultural_pool[0]['weights'][j]\n",
    "            else:\n",
    "                new_individual['weights'][j] = cultural_pool[1]['weights'][j]\n",
    "            new_individual['weights'][j] += np.random.normal(0, 0.1, size=new_individual['weights'][j].shape)\n",
    "        new_individual['fitness'] = fitness_function(new_individual['weights'])\n",
    "\n",
    "        replace_index = random.randint(0, pop_size-1)\n",
    "        population[replace_index] = new_individual\n",
    "\n",
    "        if new_individual['fitness'] > cultural_pool[-1]['fitness']:\n",
    "            cultural_pool[-1] = new_individual\n",
    "\n",
    "        population = sorted(population, key=lambda x: x['fitness'], reverse=True)\n",
    "\n",
    "    return population[0]['weights']\n"
   ]
  },
  {
   "cell_type": "code",
   "execution_count": null,
   "id": "17ebaea8",
   "metadata": {},
   "outputs": [],
   "source": [
    "best_weights = cultural_algorithm(num_weights=10, pop_size=50, num_iter=100)\n",
    "print(\"Best weights found:\", best_weights)"
   ]
  },
  {
   "cell_type": "code",
   "execution_count": null,
   "id": "715bbaec",
   "metadata": {},
   "outputs": [],
   "source": [
    "model.set_weights(best_weights)\n",
    "\n",
    "loss, accuracy = model.evaluate(X_val, y_val)\n",
    "\n",
    "print(\"Accuracy:\", accuracy)"
   ]
  }
 ],
 "metadata": {
  "kernelspec": {
   "display_name": "Python 3 (ipykernel)",
   "language": "python",
   "name": "python3"
  },
  "language_info": {
   "codemirror_mode": {
    "name": "ipython",
    "version": 3
   },
   "file_extension": ".py",
   "mimetype": "text/x-python",
   "name": "python",
   "nbconvert_exporter": "python",
   "pygments_lexer": "ipython3",
   "version": "3.9.7"
  }
 },
 "nbformat": 4,
 "nbformat_minor": 5
}
