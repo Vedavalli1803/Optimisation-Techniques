{
 "cells": [
  {
   "cell_type": "code",
   "execution_count": null,
   "id": "13005d6e",
   "metadata": {},
   "outputs": [],
   "source": [
    "import numpy as np\n",
    "from keras.layers import Dense\n",
    "from keras.models import Sequential\n",
    "from tensorflow.keras.models import load_model\n",
    "from sklearn.datasets import load_iris\n",
    "from sklearn.model_selection import train_test_split\n",
    "from sklearn.preprocessing import OneHotEncoder, StandardScaler\n",
    "import warnings\n",
    "warnings.filterwarnings(\"ignore\")\n",
    "import pandas as pd"
   ]
  },
  {
   "cell_type": "code",
   "execution_count": null,
   "id": "130c7bce",
   "metadata": {},
   "outputs": [],
   "source": [
    "data = pd.read_csv('/Users/veda/Downloads/Bank_Personal_Loan_Modelling.csv')"
   ]
  },
  {
   "cell_type": "code",
   "execution_count": null,
   "id": "1b90f9f6",
   "metadata": {},
   "outputs": [],
   "source": [
    "data.head()"
   ]
  },
  {
   "cell_type": "code",
   "execution_count": null,
   "id": "e1a1ffcf",
   "metadata": {},
   "outputs": [],
   "source": [
    "data.drop([\"ID\", \"ZIP Code\"],axis=1,inplace=True)"
   ]
  },
  {
   "cell_type": "code",
   "execution_count": null,
   "id": "4bd0db82",
   "metadata": {},
   "outputs": [],
   "source": [
    "x = data['Personal Loan']\n",
    "data = data.drop(['Personal Loan'],axis=1)\n",
    "data = data.join(x)"
   ]
  },
  {
   "cell_type": "code",
   "execution_count": null,
   "id": "1fba8509",
   "metadata": {},
   "outputs": [],
   "source": [
    "data.shape"
   ]
  },
  {
   "cell_type": "code",
   "execution_count": null,
   "id": "90b2a7c3",
   "metadata": {},
   "outputs": [],
   "source": [
    "data.isnull().sum()"
   ]
  },
  {
   "cell_type": "code",
   "execution_count": null,
   "id": "5f326e9e",
   "metadata": {},
   "outputs": [],
   "source": [
    "x = data.iloc[:,:-1].values\n",
    "y = data.iloc[:,-1].values\n",
    "enc = OneHotEncoder()\n",
    "y = enc.fit_transform(y[:, np.newaxis]).toarray()"
   ]
  },
  {
   "cell_type": "code",
   "execution_count": null,
   "id": "9afc083c",
   "metadata": {},
   "outputs": [],
   "source": [
    "from sklearn.model_selection import train_test_split\n",
    "x_train,x_test,y_train,y_test = train_test_split(x,y,test_size=0.20,random_state=69)\n",
    "(x_train.shape,x_test.shape,y_train.shape,y_test.shape)"
   ]
  },
  {
   "cell_type": "code",
   "execution_count": null,
   "id": "cd9982a9",
   "metadata": {},
   "outputs": [],
   "source": [
    "from sklearn.preprocessing import StandardScaler\n",
    "\n",
    "sc = StandardScaler()\n",
    "x_train = sc.fit_transform(x_train)\n",
    "x_test = sc.transform(x_test)"
   ]
  },
  {
   "cell_type": "code",
   "execution_count": null,
   "id": "99f84a86",
   "metadata": {},
   "outputs": [],
   "source": [
    "def create_custom_model(nodes, n=1, name='model'):\n",
    "    model = Sequential(name=name)\n",
    "    for i in range(n):\n",
    "        model.add(Dense(nodes, input_dim=13, activation='relu'))\n",
    "    model.add(Dense(2, activation='softmax'))\n",
    "    model.compile(loss='categorical_crossentropy',\n",
    "                  optimizer='adam',\n",
    "                  metrics=['accuracy'])\n",
    "    return model"
   ]
  },
  {
   "cell_type": "code",
   "execution_count": null,
   "id": "cc66dea3",
   "metadata": {},
   "outputs": [],
   "source": [
    "n_layers = 1\n",
    "model = create_custom_model(4, n_layers)\n",
    "model.summary()\n",
    "\n",
    "score = model.evaluate(X_test, Y_test)\n",
    "print('Test loss:', score[0])\n",
    "print('Test accuracy:', score[1])"
   ]
  },
  {
   "cell_type": "code",
   "execution_count": null,
   "id": "6d5ebc04",
   "metadata": {},
   "outputs": [],
   "source": [
    "def fitness_function(weights):\n",
    "    y_pred = model(X_train)\n",
    "    y_pred = torch.where(y_pred>=0.5, 1, 0).flatten()\n",
    "    accuracy = (y_pred == Y_train).sum().float().item() / len(test.dataset)\n",
    "    return accuracy"
   ]
  },
  {
   "cell_type": "code",
   "execution_count": null,
   "id": "8793ab81",
   "metadata": {},
   "outputs": [],
   "source": [
    "def ant_colony_optimization(num_ants, num_iterations, alpha=1.0, beta=1.0, evaporation=0.5, Q=100, tau0=0.1):\n",
    "    \n",
    "    num_weights = len(model.get_weights())\n",
    "    pheromone = np.full((num_weights,), tau0)\n",
    "\n",
    "    best_solution = None\n",
    "    best_fitness = float('-inf')\n",
    "\n",
    "    for i in range(num_iterations):\n",
    "        solutions = []\n",
    "        fitness_values = []\n",
    "\n",
    "        for j in range(num_ants):\n",
    "            solution = np.zeros((num_weights,))\n",
    "\n",
    "            for k in range(num_weights):\n",
    "                probabilities = np.zeros((2,))\n",
    "                for l in range(2):\n",
    "                    delta_tau = Q / (1 + np.exp(-beta * pheromone[k]))\n",
    "                    decision = model.get_weights()[k] + (l - 0.5) * alpha * delta_tau\n",
    "                    model.set_weights(model.get_weights()[k] + (l - 0.5) * alpha * delta_tau)\n",
    "                    probabilities[l] = fitness_function(model.get_weights())\n",
    "                    model.set_weights(solution)\n",
    "\n",
    "                decision = np.random.choice(2, p=probabilities / np.sum(probabilities))\n",
    "                solution[k] = model.get_weights()[k] + (decision - 0.5) * alpha\n",
    "\n",
    "            fitness = fitness_function(model.get_weights())\n",
    "\n",
    "            solutions.append(solution)\n",
    "            fitness_values.append(fitness)\n",
    "\n",
    "        for k in range(num_weights):\n",
    "            for l in range(2):\n",
    "                delta_tau = 0\n",
    "                for m in range(num_ants):\n",
    "                    if solutions[m][k] == l:\n",
    "                        delta_tau += fitness_values[m]\n",
    "                pheromone[k] = (1 - evaporation) * pheromone[k] + delta_tau\n",
    "\n",
    "        if np.max(fitness_values) > best_fitness:\n",
    "            best_solution = solutions[np.argmax(fitness_values)]\n",
    "            best_fitness = np.max(fitness_values)\n",
    "\n",
    "    return best_solution"
   ]
  },
  {
   "cell_type": "code",
   "execution_count": null,
   "id": "308e930f",
   "metadata": {},
   "outputs": [],
   "source": [
    "best_weights = ant_colony_optimization(num_ants=10, num_iterations=100, alpha=1.0, beta=1.0, evaporation=0.5, Q=100, tau0=0)\n",
    "loss, accuracy = model.evaluate(X_test, y_test)\n",
    "print('Accuracy:', accuracy)"
   ]
  }
 ],
 "metadata": {
  "kernelspec": {
   "display_name": "Python 3 (ipykernel)",
   "language": "python",
   "name": "python3"
  },
  "language_info": {
   "codemirror_mode": {
    "name": "ipython",
    "version": 3
   },
   "file_extension": ".py",
   "mimetype": "text/x-python",
   "name": "python",
   "nbconvert_exporter": "python",
   "pygments_lexer": "ipython3",
   "version": "3.9.7"
  }
 },
 "nbformat": 4,
 "nbformat_minor": 5
}
